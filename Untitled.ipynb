{
 "cells": [
  {
   "cell_type": "code",
   "execution_count": 1,
   "id": "4c62b6cb",
   "metadata": {},
   "outputs": [],
   "source": [
    "import json\n",
    "import requests"
   ]
  },
  {
   "cell_type": "code",
   "execution_count": 2,
   "id": "94de8c2d",
   "metadata": {},
   "outputs": [],
   "source": [
    "data = [\n",
    "\"1055620304465215616\", \"1057418989293485952\"\n",
    "]\n",
    "json_string = json.dumps(data)"
   ]
  },
  {
   "cell_type": "code",
   "execution_count": 3,
   "id": "896d0f85",
   "metadata": {},
   "outputs": [],
   "source": [
    "url = 'https://recruitment.aimtechnologies.co/ai-tasks'\n",
    "response = requests.post(url, data = json_string)"
   ]
  },
  {
   "cell_type": "code",
   "execution_count": 4,
   "id": "73620803",
   "metadata": {},
   "outputs": [
    {
     "data": {
      "text/plain": [
       "'{\"1055620304465215616\":\"@MahmoudWaked7 @maganenoo في طريق مطروح مركز بهيج  والمركز الي الي جمبه اسمه ايه😂😂\",\"1057418989293485952\":\"@mycousinvinnyys @hanyamikhail1 متهيالي دي شكولاته الهالوين  فين المحل ده\"}'"
      ]
     },
     "execution_count": 4,
     "metadata": {},
     "output_type": "execute_result"
    }
   ],
   "source": [
    "response.text"
   ]
  },
  {
   "cell_type": "code",
   "execution_count": 5,
   "id": "4d1eec61",
   "metadata": {},
   "outputs": [],
   "source": [
    "import pandas as pd"
   ]
  },
  {
   "cell_type": "code",
   "execution_count": 6,
   "id": "89563bc0",
   "metadata": {},
   "outputs": [],
   "source": [
    "data = pd.read_csv(\"dialect_dataset.csv\")"
   ]
  },
  {
   "cell_type": "code",
   "execution_count": 29,
   "id": "471eab0e",
   "metadata": {},
   "outputs": [],
   "source": [
    "response = requests.post(url, data = json.dumps(list(map(str,data.iloc[:1000]['id']))))"
   ]
  },
  {
   "cell_type": "code",
   "execution_count": 42,
   "id": "b35ccb11",
   "metadata": {},
   "outputs": [
    {
     "data": {
      "text/html": [
       "<div>\n",
       "<style scoped>\n",
       "    .dataframe tbody tr th:only-of-type {\n",
       "        vertical-align: middle;\n",
       "    }\n",
       "\n",
       "    .dataframe tbody tr th {\n",
       "        vertical-align: top;\n",
       "    }\n",
       "\n",
       "    .dataframe thead th {\n",
       "        text-align: right;\n",
       "    }\n",
       "</style>\n",
       "<table border=\"1\" class=\"dataframe\">\n",
       "  <thead>\n",
       "    <tr style=\"text-align: right;\">\n",
       "      <th></th>\n",
       "      <th>id</th>\n",
       "      <th>text</th>\n",
       "    </tr>\n",
       "  </thead>\n",
       "  <tbody>\n",
       "    <tr>\n",
       "      <th>0</th>\n",
       "      <td>1175358310087892992</td>\n",
       "      <td>@Nw8ieJUwaCAAreT لكن بالنهاية .. ينتفض .. يغير .</td>\n",
       "    </tr>\n",
       "    <tr>\n",
       "      <th>1</th>\n",
       "      <td>1175416117793349632</td>\n",
       "      <td>@7zNqXP0yrODdRjK يعني هذا محسوب على البشر .. ح...</td>\n",
       "    </tr>\n",
       "    <tr>\n",
       "      <th>2</th>\n",
       "      <td>1175450108898565888</td>\n",
       "      <td>@KanaanRema مبين من كلامه خليجي</td>\n",
       "    </tr>\n",
       "    <tr>\n",
       "      <th>3</th>\n",
       "      <td>1175471073770573824</td>\n",
       "      <td>@HAIDER76128900 يسلملي مرورك وروحك الحلوه💐</td>\n",
       "    </tr>\n",
       "    <tr>\n",
       "      <th>4</th>\n",
       "      <td>1175496913145217024</td>\n",
       "      <td>@hmo2406 وين هل الغيبه  اخ محمد 🌸🌺</td>\n",
       "    </tr>\n",
       "    <tr>\n",
       "      <th>...</th>\n",
       "      <td>...</td>\n",
       "      <td>...</td>\n",
       "    </tr>\n",
       "    <tr>\n",
       "      <th>995</th>\n",
       "      <td>1136965864962625536</td>\n",
       "      <td>@NABAA71243942 لا عيني هاي هسه هيج صارات قبل ت...</td>\n",
       "    </tr>\n",
       "    <tr>\n",
       "      <th>996</th>\n",
       "      <td>1136967120162557952</td>\n",
       "      <td>@NABAA71243942 اي لان فاسد لان جاي على الفساد ...</td>\n",
       "    </tr>\n",
       "    <tr>\n",
       "      <th>997</th>\n",
       "      <td>1136968047879696384</td>\n",
       "      <td>@NABAA71243942 ما بقى شي اقصد من العمر 😂</td>\n",
       "    </tr>\n",
       "    <tr>\n",
       "      <th>998</th>\n",
       "      <td>1136972705079725952</td>\n",
       "      <td>@aarrawi والله نتيجة مجتمع تعبان يعني المعدل م...</td>\n",
       "    </tr>\n",
       "    <tr>\n",
       "      <th>999</th>\n",
       "      <td>1136993095877349376</td>\n",
       "      <td>@NABAA71243942 لا والله مو المعدل الخلل الخلل ...</td>\n",
       "    </tr>\n",
       "  </tbody>\n",
       "</table>\n",
       "<p>1000 rows × 2 columns</p>\n",
       "</div>"
      ],
      "text/plain": [
       "                      id                                               text\n",
       "0    1175358310087892992   @Nw8ieJUwaCAAreT لكن بالنهاية .. ينتفض .. يغير .\n",
       "1    1175416117793349632  @7zNqXP0yrODdRjK يعني هذا محسوب على البشر .. ح...\n",
       "2    1175450108898565888                    @KanaanRema مبين من كلامه خليجي\n",
       "3    1175471073770573824         @HAIDER76128900 يسلملي مرورك وروحك الحلوه💐\n",
       "4    1175496913145217024                 @hmo2406 وين هل الغيبه  اخ محمد 🌸🌺\n",
       "..                   ...                                                ...\n",
       "995  1136965864962625536  @NABAA71243942 لا عيني هاي هسه هيج صارات قبل ت...\n",
       "996  1136967120162557952  @NABAA71243942 اي لان فاسد لان جاي على الفساد ...\n",
       "997  1136968047879696384           @NABAA71243942 ما بقى شي اقصد من العمر 😂\n",
       "998  1136972705079725952  @aarrawi والله نتيجة مجتمع تعبان يعني المعدل م...\n",
       "999  1136993095877349376  @NABAA71243942 لا والله مو المعدل الخلل الخلل ...\n",
       "\n",
       "[1000 rows x 2 columns]"
      ]
     },
     "execution_count": 42,
     "metadata": {},
     "output_type": "execute_result"
    }
   ],
   "source": [
    "pd.DataFrame(dict(response.json()).items(),columns=['id','text'])"
   ]
  },
  {
   "cell_type": "code",
   "execution_count": 62,
   "id": "88810377",
   "metadata": {},
   "outputs": [
    {
     "data": {
      "text/html": [
       "<div>\n",
       "<style scoped>\n",
       "    .dataframe tbody tr th:only-of-type {\n",
       "        vertical-align: middle;\n",
       "    }\n",
       "\n",
       "    .dataframe tbody tr th {\n",
       "        vertical-align: top;\n",
       "    }\n",
       "\n",
       "    .dataframe thead th {\n",
       "        text-align: right;\n",
       "    }\n",
       "</style>\n",
       "<table border=\"1\" class=\"dataframe\">\n",
       "  <thead>\n",
       "    <tr style=\"text-align: right;\">\n",
       "      <th></th>\n",
       "      <th>id</th>\n",
       "      <th>dialect</th>\n",
       "    </tr>\n",
       "  </thead>\n",
       "  <tbody>\n",
       "    <tr>\n",
       "      <th>0</th>\n",
       "      <td>1175358310087892992</td>\n",
       "      <td>IQ</td>\n",
       "    </tr>\n",
       "    <tr>\n",
       "      <th>1</th>\n",
       "      <td>1175416117793349632</td>\n",
       "      <td>IQ</td>\n",
       "    </tr>\n",
       "    <tr>\n",
       "      <th>2</th>\n",
       "      <td>1175450108898565888</td>\n",
       "      <td>IQ</td>\n",
       "    </tr>\n",
       "    <tr>\n",
       "      <th>3</th>\n",
       "      <td>1175471073770573824</td>\n",
       "      <td>IQ</td>\n",
       "    </tr>\n",
       "    <tr>\n",
       "      <th>4</th>\n",
       "      <td>1175496913145217024</td>\n",
       "      <td>IQ</td>\n",
       "    </tr>\n",
       "  </tbody>\n",
       "</table>\n",
       "</div>"
      ],
      "text/plain": [
       "                    id dialect\n",
       "0  1175358310087892992      IQ\n",
       "1  1175416117793349632      IQ\n",
       "2  1175450108898565888      IQ\n",
       "3  1175471073770573824      IQ\n",
       "4  1175496913145217024      IQ"
      ]
     },
     "execution_count": 62,
     "metadata": {},
     "output_type": "execute_result"
    }
   ],
   "source": [
    "data.head()"
   ]
  },
  {
   "cell_type": "code",
   "execution_count": 83,
   "id": "bfe570da",
   "metadata": {},
   "outputs": [],
   "source": [
    "data_with_text = pd.DataFrame(columns=['id','text','dialect'])\n",
    "with pd.read_csv(\"dialect_dataset.csv\",chunksize=1000) as reader:\n",
    "    for chunk in reader:\n",
    "        response = requests.post(url, data = json.dumps(list(map(str,chunk['id']))))\n",
    "        chunk['text'] = dict(response.json()).values()\n",
    "        data_with_text = pd.concat([data_with_text , chunk])"
   ]
  },
  {
   "cell_type": "code",
   "execution_count": 84,
   "id": "5af02732",
   "metadata": {},
   "outputs": [],
   "source": [
    "# data_with_text = pd.DataFrame(columns=['id','text','dialect'])\n",
    "# with pd.read_csv(\"dialect_dataset.csv\",chunksize=1000) as reader:\n",
    "#     for chunk in reader:\n",
    "#         print(len(chunk))\n",
    "#         response = requests.post(url, data = json.dumps(list(map(str,chunk['id']))))\n",
    "#         data_response = pd.DataFrame(dict(response.json()).items(),columns=['id','text'])\n",
    "#         print(len(data_response))\n",
    "# #         data_retrieved = pd.concat([data_response , chunk['dialect']],axis=1)\n",
    "# #         print(data_retrieved)\n",
    "# #         data_with_text = pd.concat([data_with_text , data_retrieved])"
   ]
  },
  {
   "cell_type": "code",
   "execution_count": 85,
   "id": "65f86002",
   "metadata": {},
   "outputs": [
    {
     "name": "stdout",
     "output_type": "stream",
     "text": [
      "<class 'pandas.core.frame.DataFrame'>\n",
      "Int64Index: 458197 entries, 0 to 458196\n",
      "Data columns (total 3 columns):\n",
      " #   Column   Non-Null Count   Dtype \n",
      "---  ------   --------------   ----- \n",
      " 0   id       458197 non-null  object\n",
      " 1   text     458197 non-null  object\n",
      " 2   dialect  458197 non-null  object\n",
      "dtypes: object(3)\n",
      "memory usage: 14.0+ MB\n"
     ]
    }
   ],
   "source": [
    "data_with_text.info()"
   ]
  },
  {
   "cell_type": "code",
   "execution_count": 86,
   "id": "c66fcbc5",
   "metadata": {},
   "outputs": [],
   "source": [
    "data_with_text.to_csv('complete_raw_data.csv')"
   ]
  }
 ],
 "metadata": {
  "kernelspec": {
   "display_name": "Python 3 (ipykernel)",
   "language": "python",
   "name": "python3"
  },
  "language_info": {
   "codemirror_mode": {
    "name": "ipython",
    "version": 3
   },
   "file_extension": ".py",
   "mimetype": "text/x-python",
   "name": "python",
   "nbconvert_exporter": "python",
   "pygments_lexer": "ipython3",
   "version": "3.9.7"
  }
 },
 "nbformat": 4,
 "nbformat_minor": 5
}
